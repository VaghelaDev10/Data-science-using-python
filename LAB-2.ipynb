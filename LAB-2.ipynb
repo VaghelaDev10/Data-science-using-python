{
 "cells": [
  {
   "cell_type": "code",
   "execution_count": 2,
   "metadata": {},
   "outputs": [
    {
     "ename": "TypeError",
     "evalue": "Numbers() takes no arguments",
     "output_type": "error",
     "traceback": [
      "\u001b[1;31m---------------------------------------------------------------------------\u001b[0m",
      "\u001b[1;31mTypeError\u001b[0m                                 Traceback (most recent call last)",
      "Cell \u001b[1;32mIn[2], line 31\u001b[0m\n\u001b[0;32m     29\u001b[0m n2 \u001b[38;5;241m=\u001b[39m Numbers()\n\u001b[0;32m     30\u001b[0m n2\u001b[38;5;241m.\u001b[39msetNum(\u001b[38;5;241m2\u001b[39m)\n\u001b[1;32m---> 31\u001b[0m n3 \u001b[38;5;241m=\u001b[39m \u001b[43mn1\u001b[49m\u001b[38;5;241;43m.\u001b[39;49m\u001b[43madd\u001b[49m\u001b[43m(\u001b[49m\u001b[43mn2\u001b[49m\u001b[43m)\u001b[49m\n\u001b[0;32m     32\u001b[0m \u001b[38;5;28mprint\u001b[39m(\u001b[38;5;124m\"\u001b[39m\u001b[38;5;124mAddition is \u001b[39m\u001b[38;5;124m\"\u001b[39m,n3\u001b[38;5;241m.\u001b[39mgetNum())\n\u001b[0;32m     33\u001b[0m n3 \u001b[38;5;241m=\u001b[39m n1\u001b[38;5;241m.\u001b[39mpower(n2)\n",
      "Cell \u001b[1;32mIn[2], line 9\u001b[0m, in \u001b[0;36mNumbers.add\u001b[1;34m(self, n2)\u001b[0m\n\u001b[0;32m      8\u001b[0m \u001b[38;5;28;01mdef\u001b[39;00m \u001b[38;5;21madd\u001b[39m(\u001b[38;5;28mself\u001b[39m, n2 ):\n\u001b[1;32m----> 9\u001b[0m     n3 \u001b[38;5;241m=\u001b[39m\u001b[43mNumbers\u001b[49m\u001b[43m(\u001b[49m\u001b[38;5;28;43mself\u001b[39;49m\u001b[38;5;241;43m.\u001b[39;49m\u001b[43mnum\u001b[49m\u001b[43m \u001b[49m\u001b[38;5;241;43m+\u001b[39;49m\u001b[43m \u001b[49m\u001b[43mn2\u001b[49m\u001b[38;5;241;43m.\u001b[39;49m\u001b[43mnum\u001b[49m\u001b[43m)\u001b[49m\n\u001b[0;32m     10\u001b[0m     \u001b[38;5;28;01mreturn\u001b[39;00m n3\n",
      "\u001b[1;31mTypeError\u001b[0m: Numbers() takes no arguments"
     ]
    }
   ],
   "source": [
    "class Numbers:\n",
    "    def _init_(self , num = 0):\n",
    "        self.num = num \n",
    "    def setNum(self,num):\n",
    "        self.num = num \n",
    "    def getNum(self):\n",
    "        return self.num \n",
    "    def add(self, n2 ):\n",
    "        n3 =Numbers(self.num + n2.num)\n",
    "        return n3\n",
    "    def power(self , n2):\n",
    "        n3 =Numbers(self.num**n2.num)\n",
    "        return n3\n",
    "    def concat(self , n2):\n",
    "        n3 =Numbers(str(self.num)+str(n2.num))\n",
    "        return n3\n",
    "    def min1(self,n2):\n",
    "        n3 =Numbers(min(self.num , n2.num))\n",
    "        return n3\n",
    "    def max1(self,n2):\n",
    "        n3 =Numbers(max(self.num , n2.num))\n",
    "        return n3\n",
    "        \n",
    "\n",
    "\n",
    "n1 = Numbers()\n",
    "n1.setNum(5)\n",
    "##print(n1.getNum())\n",
    "n2 = Numbers()\n",
    "n2.setNum(2)\n",
    "n3 = n1.add(n2)\n",
    "print(\"Addition is \",n3.getNum())\n",
    "n3 = n1.power(n2)\n",
    "print(\"Power is \",n3.getNum())\n",
    "n3 = n1.concat(n2)\n",
    "print(\"Concatenation is \",n3.getNum())\n",
    "n3 = n1.min1(n2)\n",
    "print(\"Min  is \",n3.getNum())\n",
    "n3 = n1.max1(n2)\n",
    "print(\"Max is \",n3.getNum())"
   ]
  },
  {
   "cell_type": "code",
   "execution_count": 2,
   "metadata": {},
   "outputs": [
    {
     "name": "stdout",
     "output_type": "stream",
     "text": [
      "Result tuple after removing duplicates: (88.0, 57.0, 397.0, 71.0)\n"
     ]
    }
   ],
   "source": [
    "numbers = []\n",
    "n = int(input(\"Enter the number of elements: \"))\n",
    "if n != 8:\n",
    "    print(\"Invalid number of elements. Program requires 8 numbers.\")\n",
    "else:\n",
    "    for i in range(n):\n",
    "        num = float(input(f\"Enter number {i+1}: \"))\n",
    "        numbers.append(num)\n",
    "    newlist = []\n",
    "    for i in range(n // 2):\n",
    "        if i == n // 2 - 1 and n % 2 != 0:\n",
    "            newlist.append(numbers[i] + numbers[-i - 1])\n",
    "        else:\n",
    "            newlist.append(numbers[i] + numbers[-i - 1])\n",
    "    newlist = list(set(newlist))\n",
    "    if newlist:\n",
    "        result_tuple = tuple(newlist)\n",
    "        print(\"Result tuple after removing duplicates:\", result_tuple)\n",
    "    else:\n",
    "        print(\"No elements in the new list.\")\n"
   ]
  },
  {
   "cell_type": "code",
   "execution_count": 2,
   "metadata": {},
   "outputs": [
    {
     "ename": "TypeError",
     "evalue": "Numbers() takes no arguments",
     "output_type": "error",
     "traceback": [
      "\u001b[1;31m---------------------------------------------------------------------------\u001b[0m",
      "\u001b[1;31mTypeError\u001b[0m                                 Traceback (most recent call last)",
      "Cell \u001b[1;32mIn[2], line 26\u001b[0m\n\u001b[0;32m     21\u001b[0m         n3 \u001b[38;5;241m=\u001b[39mNumbers(\u001b[38;5;28mmax\u001b[39m(\u001b[38;5;28mself\u001b[39m\u001b[38;5;241m.\u001b[39mnum , n2\u001b[38;5;241m.\u001b[39mnum))\n\u001b[0;32m     22\u001b[0m         \u001b[38;5;28;01mreturn\u001b[39;00m n3\n\u001b[1;32m---> 26\u001b[0m n1 \u001b[38;5;241m=\u001b[39m \u001b[43mNumbers\u001b[49m\u001b[43m(\u001b[49m\u001b[38;5;241;43m4\u001b[39;49m\u001b[43m)\u001b[49m\n\u001b[0;32m     27\u001b[0m n1\u001b[38;5;241m.\u001b[39msetNum(\u001b[38;5;241m5\u001b[39m)\n\u001b[0;32m     28\u001b[0m \u001b[38;5;66;03m##print(n1.getNum())\u001b[39;00m\n",
      "\u001b[1;31mTypeError\u001b[0m: Numbers() takes no arguments"
     ]
    }
   ],
   "source": [
    "class Numbers:\n",
    "    def _init_(self , num = 0):\n",
    "        self.num = num \n",
    "    def setNum(self,num):\n",
    "        self.num = num \n",
    "    def getNum(self):\n",
    "        return self.num \n",
    "    def add(self, n2 ):\n",
    "        n3 =Numbers(self.num + n2.num)\n",
    "        return n3\n",
    "    def power(self , n2):\n",
    "        n3 =Numbers(self.num**n2.num)\n",
    "        return n3\n",
    "    def concat(self , n2):\n",
    "        n3 =Numbers(str(self.num)+str(n2.num))\n",
    "        return n3\n",
    "    def min1(self,n2):\n",
    "        n3 =Numbers(min(self.num , n2.num))\n",
    "        return n3\n",
    "    def max1(self,n2):\n",
    "        n3 =Numbers(max(self.num , n2.num))\n",
    "        return n3\n",
    "        \n",
    "\n",
    "\n",
    "n1 = Numbers()\n",
    "n1.setNum(5)\n",
    "##print(n1.getNum())\n",
    "n2 = Numbers()\n",
    "n2.setNum(2)\n",
    "n3 = n1.add(n2)\n",
    "print(\"Addition is \",n3.getNum())\n",
    "n3 = n1.power(n2)\n",
    "print(\"Power is \",n3.getNum())\n",
    "n3 = n1.concat(n2)\n",
    "print(\"Concatenation is \",n3.getNum())\n",
    "n3 = n1.min1(n2)\n",
    "print(\"Min  is \",n3.getNum())\n",
    "n3 = n1.max1(n2)\n",
    "print(\"Max is \",n3.getNum())"
   ]
  }
 ],
 "metadata": {
  "kernelspec": {
   "display_name": "Python 3",
   "language": "python",
   "name": "python3"
  },
  "language_info": {
   "codemirror_mode": {
    "name": "ipython",
    "version": 3
   },
   "file_extension": ".py",
   "mimetype": "text/x-python",
   "name": "python",
   "nbconvert_exporter": "python",
   "pygments_lexer": "ipython3",
   "version": "3.11.2"
  }
 },
 "nbformat": 4,
 "nbformat_minor": 2
}
