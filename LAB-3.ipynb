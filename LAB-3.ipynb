{
 "cells": [
  {
   "cell_type": "code",
   "execution_count": 1,
   "metadata": {},
   "outputs": [
    {
     "name": "stdout",
     "output_type": "stream",
     "text": [
      "(12345, 'dhksha', 'diksha.r@nuv.ac.in')\n"
     ]
    }
   ],
   "source": [
    "#Q1\n",
    "\n",
    "data = [ (12345, \"dhksha\", \"diksha.r@nuv.ac.in\"),\n",
    "    (45667, \"jiva\", \"jiva@nuv.ac.in\"),\n",
    "    (16789, \"ronitd\", \"ronitd@nuv.ac.in\"),\n",
    "    (69433, \"heena\", \"heena@nuv.ac.in\")\n",
    "]\n",
    "#sid=16789\n",
    "def abc ():\n",
    "    sid=int(input(\"enter id :\"))\n",
    "    for d in data:\n",
    "        #print(d)\n",
    "        if d[0]==sid:\n",
    "            print(d)\n",
    "result=abc()    \n",
    "\n",
    "def name():\n",
    "    sid=(input(\"enter name:\"))\n",
    "    for d in data:\n",
    "        #print(d)\n",
    "        if d[1]==sid:\n",
    "            print(d)\n",
    "result=name()\n"
   ]
  },
  {
   "cell_type": "code",
   "execution_count": null,
   "metadata": {},
   "outputs": [],
   "source": [
    "#Q2\n",
    "\n",
    "Mydict = {\n",
    "    \"Enrollment Id\": [12345, 45667, 16789, 69433],\n",
    "    \"Student Name\": [\"Diksha\", \"Jiva\", \"Ronit\", \"Heena\"],\n",
    "    \"Email Id\": [\"Diksha r@nuv.ac.in\", \"Jiva@nuv.ac.in\", \"Ronitd@nuv.ac.in\", \"Heena@nuv.ac.in\"]\n",
    "}\n",
    "\n",
    "Mydict[\"Enrollment Id\"][0]\n",
    "value = int(input(\"enter id:\"))\n",
    "for i in range(len(Mydict[\"Enrollment Id\"])):\n",
    "    if Mydict[\"Enrollment Id\"][i]==value:\n",
    "        print (Mydict[\"Enrollment Id\"][i])\n",
    "        print (Mydict[\"Student Name\"][i])\n",
    "        print (Mydict[\"Email Id\"][i])\n",
    "        \n",
    "        enrolid=Mydict[\"Enrollment Id\"][i]\n",
    "        sname=Mydict[\"Student Name\"][i]\n",
    "        email=Mydict[\"Email Id\"][i]\n",
    "        print(f\"{enrolid:<15}{sname:15}{email:25}\")\n"
   ]
  },
  {
   "cell_type": "code",
   "execution_count": null,
   "metadata": {},
   "outputs": [],
   "source": [
    "#Q3\n",
    "\n",
    "data= [\n",
    "    (12345,\"Diksha\",\"Duksha r@nuv.ac.in\"),\n",
    "    (45667,\"jiva\",\"jiva@nuv.ac.in\"),\n",
    "    (16789,\"ronit,\",\"ronit@nuv.ac.in\"),\n",
    "    (69433,\"heena,\",\"heena@nuv.ac.in\")\n",
    "]\n",
    "Mydict ={\n",
    "    \"Enrollment Id\":[],\n",
    "    \"Student name\":[],\n",
    "    \"Email Id\":[]\n",
    "}\n",
    "for d in data: #method1\n",
    "    Mydict[\"Enrollment Id\"].append(d[0])\n",
    "    Mydict[\"Student name\"].append(d[1])\n",
    "    Mydict[\"Email Id\"].append(d[2])\n",
    "\n",
    "Mydict[\"Enrollment Id\"]=[d[0] for d in data]\n",
    "Mydict\n",
    "\n",
    "        "
   ]
  },
  {
   "cell_type": "code",
   "execution_count": null,
   "metadata": {},
   "outputs": [],
   "source": [
    "#Q4\n",
    "Mydict = {\n",
    "    \"Enrollment Id\": [12345, 45667, 16789, 69433],\n",
    "    \"Student Name\": [\"Diksha\", \"Jiva\", \"Ronit\", \"Heena\"],\n",
    "    \"Email Id\": [\"Diksha r@nuv.ac.in\", \"Jiva@nuv.ac.in\", \"Ronitd@nuv.ac.in\", \"Heena@nuv.ac.in\"]}\n",
    "import json\n",
    "fu=open(\"student.json\",'w')#write\n",
    "a=json.dumps(Mydict)\n",
    "fu.write(a)\n",
    "fr=open(\"student.json\",\"r\")\n",
    "allstudents=json.load(fr)#read\n",
    "  \n",
    "       \n",
    "\n"
   ]
  },
  {
   "cell_type": "code",
   "execution_count": null,
   "metadata": {},
   "outputs": [],
   "source": [
    "\n",
    "#Q5\n",
    "import json\n",
    "fu=open(\"data.csv\",'w')#write\n",
    "a=json.dumps(Mydict)\n",
    "fu.write(a)\n",
    "fr=open(\"data.csv\",\"r\")\n",
    "\n",
    "Mydict={\n",
    "    \"stateid\":[12001,12002,12003,12004,12005,12006,12007,12008],\n",
    "    \"name\":[\" Gujarat\",\"Maharashtra\",\"Rajasthan\",\"Madhya Pradesh\",\" Punjab\",\"Karnataka\",\"Tamilnadu\",\"  Kerala\"],\n",
    "    \"population in crores\":[10,19,13,14,12,23,25,21],\n",
    "    \"population in crores\":[29,36,31,21,13,31,29,15]\n",
    "    }\n",
    "import csv\n",
    "with open('data.csv',) as csvdata:\n",
    "    for n in csvdata:\n",
    "        print(n)\n",
    "     \n",
    "       "
   ]
  }
 ],
 "metadata": {
  "kernelspec": {
   "display_name": "Python 3",
   "language": "python",
   "name": "python3"
  },
  "language_info": {
   "codemirror_mode": {
    "name": "ipython",
    "version": 3
   },
   "file_extension": ".py",
   "mimetype": "text/x-python",
   "name": "python",
   "nbconvert_exporter": "python",
   "pygments_lexer": "ipython3",
   "version": "3.11.2"
  }
 },
 "nbformat": 4,
 "nbformat_minor": 2
}
